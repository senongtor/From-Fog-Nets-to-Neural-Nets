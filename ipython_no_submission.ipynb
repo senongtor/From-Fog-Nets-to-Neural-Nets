{
 "cells": [
  {
   "cell_type": "code",
   "execution_count": 29,
   "metadata": {
    "collapsed": true
   },
   "outputs": [],
   "source": [
    "%qtconsole"
   ]
  },
  {
   "cell_type": "code",
   "execution_count": 47,
   "metadata": {
    "collapsed": false
   },
   "outputs": [],
   "source": [
    "%matplotlib inline\n",
    "from __future__ import print_function\n",
    "\n",
    "from matplotlib import pyplot as plt\n",
    "\n",
    "import numpy as np\n",
    "import pandas as pd\n",
    "import random\n",
    "\n",
    "from sklearn.pipeline import Pipeline\n",
    "from sklearn.decomposition import PCA\n",
    "from sklearn.preprocessing import Imputer\n",
    "from sklearn.preprocessing import normalize\n",
    "from sklearn.grid_search import GridSearchCV\n",
    "from sklearn import ensemble\n",
    "from sklearn import linear_model\n",
    "from sklearn import svm\n",
    "\n",
    "from sklearn.metrics import mean_squared_error\n",
    "from sklearn.cross_validation import train_test_split"
   ]
  },
  {
   "cell_type": "code",
   "execution_count": 107,
   "metadata": {
    "collapsed": true
   },
   "outputs": [],
   "source": [
    "microclimate_train = pd.read_csv('dataset/Training set Microclimate (2 hour intervals).csv',\n",
    "                                 index_col=0, parse_dates=[0])\n",
    "\n",
    "microclimate_test = pd.read_csv('dataset/Test set Microclimate (2 hour intervals).csv',\n",
    "                                index_col=0, parse_dates=[0])\n",
    "\n",
    "labels = pd.read_csv('dataset/Target Variable Water Yield.csv',\n",
    "                     index_col=0, parse_dates=[0])\n",
    "\n",
    "submission_format = pd.read_csv('dataset/Submission format.csv',\n",
    "                                index_col=0, parse_dates=[0])\n",
    "\n",
    "microclimate_5min = pd.read_csv('dataset/Training set Microclimate (5 minute intervals).csv',\n",
    "                                 index_col=0, parse_dates=[0])"
   ]
  },
  {
   "cell_type": "code",
   "execution_count": 4,
   "metadata": {
    "collapsed": false
   },
   "outputs": [
    {
     "data": {
      "image/png": "[encoded data removed]",
      "text/plain": [
       "<matplotlib.figure.Figure at 0x1043bfbd0>"
      ]
     },
     "metadata": {},
     "output_type": "display_data"
    }
   ],
   "source": [
    "X_time = microclimate_train.copy()\n",
    "y_time = labels.copy()\n",
    "\n",
    "X_test_time = microclimate_test.copy()\n",
    "y_test_time = submission_format.copy()\n",
    "\n",
    "fig, ax = plt.subplots(figsize=(16, 4))\n",
    "\n",
    "ax.plot_date(X_time.index, [1 for i in xrange(y_time.shape[0])], c='r', ms=3)\n",
    "ax.plot_date(X_test_time.index, [2 for i in xrange(X_test_time.shape[0])], c='r', ms=3)\n",
    "ax.plot_date(y_test_time.index, [3 for i in xrange(y_test_time.shape[0])], c='r', ms=3)\n",
    "ax.set_ylim([0, 5])\n",
    "\n",
    "plt.show()"
   ]
  },
  {
   "cell_type": "code",
   "execution_count": 60,
   "metadata": {
    "collapsed": true
   },
   "outputs": [],
   "source": [
    "X_time = microclimate_train.copy()\n",
    "y_time = labels.copy()\n",
    "X_joint = microclimate_train.copy()\n",
    "\n",
    "for i in [2]:\n",
    "    offset = i\n",
    "    y_pretime = labels.copy()\n",
    "    y_pretime.index = y_pretime.index + pd.DateOffset(hours=offset)\n",
    "    y_pretime = y_pretime.rename(columns={'yield': 'pre_yield_' + str(offset) + '_hours'})\n",
    "    y_joint = pd.concat([y_time, y_pretime], axis=1, join='inner')\n",
    "    X_joint = pd.concat([X_joint, y_joint], axis=1, join='outer')\n",
    "    X_joint = X_joint.drop(labels='yield', axis=1)"
   ]
  },
  {
   "cell_type": "code",
   "execution_count": 61,
   "metadata": {
    "collapsed": false
   },
   "outputs": [],
   "source": [
    "X_train_pre_yield, X_test_pre_yield, y_train_pre_yield, y_test_pre_yield = train_test_split(X_joint,\n",
    "                                                    y_time,\n",
    "                                                    test_size=0.3, random_state=100)"
   ]
  },
  {
   "cell_type": "code",
   "execution_count": 62,
   "metadata": {
    "collapsed": false
   },
   "outputs": [],
   "source": [
    "steps_random_forest = [('imputer', Imputer()),\n",
    "         ('pca', PCA()),\n",
    "         ('rf', ensemble.RandomForestRegressor())]\n",
    "pipe_random_forest = Pipeline(steps_random_forest)\n",
    "\n",
    "# create the grid search\n",
    "params = {\n",
    "    'pca__n_components': range(2, X_train_pre_yield.shape[1]),\n",
    "    'imputer__strategy': ['mean', 'median', 'most_frequent'],\n",
    "    'rf__n_estimators': [5, 10, 20],\n",
    "}"
   ]
  },
  {
   "cell_type": "code",
   "execution_count": 63,
   "metadata": {
    "collapsed": false
   },
   "outputs": [
    {
     "name": "stdout",
     "output_type": "stream",
     "text": [
      "Fitting 3 folds for each of 72 candidates, totalling 216 fits\n"
     ]
    },
    {
     "name": "stderr",
     "output_type": "stream",
     "text": [
      "[Parallel(n_jobs=-1)]: Done 136 tasks      | elapsed:    8.6s\n",
      "[Parallel(n_jobs=-1)]: Done 216 out of 216 | elapsed:   21.8s finished\n"
     ]
    },
    {
     "data": {
      "text/plain": [
       "1.7266732423220803"
      ]
     },
     "execution_count": 63,
     "metadata": {},
     "output_type": "execute_result"
    }
   ],
   "source": [
    "estimator_random_forest = GridSearchCV(pipe_random_forest, param_grid=params, n_jobs=-1, verbose=1)\n",
    "estimator_random_forest.fit(X_train_pre_yield, y_train_pre_yield.values.ravel())\n",
    "\n",
    "y_hat_pre_yield_random_forest = estimator_random_forest.predict(X_test_pre_yield)\n",
    "rmse_pre_yield_random_forest = np.sqrt(mean_squared_error(y_test_pre_yield, y_hat_pre_yield_random_forest))\n",
    "rmse_pre_yield_random_forest"
   ]
  },
  {
   "cell_type": "code",
   "execution_count": 64,
   "metadata": {
    "collapsed": false
   },
   "outputs": [
    {
     "data": {
      "image/png": "[encoded data removed]",
      "text/plain": [
       "<matplotlib.figure.Figure at 0x11e3e2c90>"
      ]
     },
     "metadata": {},
     "output_type": "display_data"
    }
   ],
   "source": [
    "fig, ax = plt.subplots(figsize=(16, 4))\n",
    "err = y_test_pre_yield.values.ravel() - y_hat_pre_yield_random_forest\n",
    "\n",
    "ax.plot_date(y_test_pre_yield.index, err, c='r', ms=3)\n",
    "ax.set_title('9 Features + Previous Yield + Random Forest Regression: residuals on test data (each)', fontsize=20)\n",
    "ax.set_ylabel('error')\n",
    "\n",
    "plt.show()"
   ]
  },
  {
   "cell_type": "markdown",
   "metadata": {},
   "source": [
    "<div class=\"alert alert-danger\">\n",
    "Classifier.\n",
    "</div>"
   ]
  },
  {
   "cell_type": "code",
   "execution_count": 65,
   "metadata": {
    "collapsed": false
   },
   "outputs": [
    {
     "data": {
      "text/plain": [
       "array([[ 0.        ,  0.00091682,  0.01788412, ...,  0.00739163,\n",
       "         0.27372533,  0.00662224],\n",
       "       [ 0.        ,  0.00092281,  0.01775545, ...,  0.00761486,\n",
       "         0.27220775,  0.0069001 ],\n",
       "       [ 0.        ,  0.00081023,  0.01875063, ...,  0.00745248,\n",
       "         0.27227188,  0.00675496],\n",
       "       ..., \n",
       "       [ 0.        ,  0.00078708,  0.03060067, ...,  0.00748404,\n",
       "         0.15971649,  0.00572088],\n",
       "       [ 0.        ,  0.00081195,  0.02876198, ...,  0.00978416,\n",
       "         0.1629566 ,  0.00888447],\n",
       "       [ 0.        ,  0.00084619,  0.02856601, ...,  0.01075866,\n",
       "         0.14647318,  0.00986602]])"
      ]
     },
     "execution_count": 65,
     "metadata": {},
     "output_type": "execute_result"
    }
   ],
   "source": [
    "X_time = microclimate_train.copy()\n",
    "y_time = labels.copy()\n",
    "\n",
    "X_time = X_time.drop(labels=X_time.index[0:4], axis=0).copy()\n",
    "y_time = y_time.drop(labels=y_time.index[0:4], axis=0).copy()\n",
    "\n",
    "for timestamp in y_time.index:\n",
    "    if y_time.loc[timestamp]['yield'] > 0:\n",
    "        y_time.loc[timestamp]['yield'] = 1\n",
    "\n",
    "X_time.fillna(method='pad')\n",
    "        \n",
    "for timestamp in X_time.index:\n",
    "    if np.isnan(X_time.loc[timestamp]['percip_mm']):\n",
    "        X_time = X_time.drop(labels=timestamp, axis=0).copy()\n",
    "        y_time = y_time.drop(labels=timestamp, axis=0).copy()\n",
    "    elif np.isnan(X_time.loc[timestamp]['gusts_ms']):\n",
    "        X_time = X_time.drop(labels=timestamp, axis=0).copy()\n",
    "        y_time = y_time.drop(labels=timestamp, axis=0).copy()\n",
    "    elif np.isnan(X_time.loc[timestamp]['leafwet460_min']):\n",
    "        X_time.loc[timestamp]['leafwet460_min'] = 0      \n",
    "\n",
    "normalize(X_time, copy=False)"
   ]
  },
  {
   "cell_type": "code",
   "execution_count": 66,
   "metadata": {
    "collapsed": true
   },
   "outputs": [],
   "source": [
    "X_train, X_test, y_train, y_test = train_test_split(X_time,\n",
    "                                                    y_time,\n",
    "                                                    test_size=0.3, random_state=100)"
   ]
  },
  {
   "cell_type": "code",
   "execution_count": 67,
   "metadata": {
    "collapsed": false
   },
   "outputs": [
    {
     "name": "stderr",
     "output_type": "stream",
     "text": [
      "/Users/Shauro/anaconda/lib/python2.7/site-packages/sklearn/utils/validation.py:515: DataConversionWarning: A column-vector y was passed when a 1d array was expected. Please change the shape of y to (n_samples, ), for example using ravel().\n",
      "  y = column_or_1d(y, warn=True)\n"
     ]
    },
    {
     "name": "stdout",
     "output_type": "stream",
     "text": [
      "test size = 1734\n",
      "right_predict_count = 1638\n",
      "in right_predict_count: zero_to_zero = 1318\n",
      "in right_predict_count: one_to_one = 320\n",
      "wrong_predict_count = 96\n",
      "in wrong_predict_count: zero_to_one = 43\n",
      "0.0315944158707\n",
      "in wrong_predict_count: one_to_zero = 53\n",
      "0.142091152815\n",
      "0.14745308311\n"
     ]
    },
    {
     "data": {
      "text/plain": [
       "0.94463667820069208"
      ]
     },
     "execution_count": 67,
     "metadata": {},
     "output_type": "execute_result"
    }
   ],
   "source": [
    "estimator = ensemble.AdaBoostClassifier(n_estimators=40,learning_rate=1)\n",
    "#estimator = svm.SVC(C=1.0, kernel='poly', degree=30, gamma='auto', coef0=0.0, shrinking=True, probability=False, tol=0.001, cache_size=200, class_weight=None, verbose=False, max_iter=-1, decision_function_shape=None, random_state=None)\n",
    "estimator.fit(X_train, y_train)\n",
    "y_hat = estimator.predict(X_test)\n",
    "\n",
    "wrong_predict_count = 0\n",
    "zero_to_one = 0\n",
    "one_to_zero = 0\n",
    "one_to_one = 0\n",
    "zero_to_zero = 0\n",
    "for i in xrange(y_test.shape[0]):\n",
    "    if y_test.values[i] != y_hat[i]:\n",
    "        wrong_predict_count += 1\n",
    "        if y_test.values[i] == 0:\n",
    "            zero_to_one += 1\n",
    "        else:\n",
    "            one_to_zero += 1\n",
    "    else:\n",
    "        if y_test.values[i] == 0:\n",
    "            zero_to_zero += 1\n",
    "        else:\n",
    "            one_to_one += 1\n",
    "            \n",
    "print('test size =', y_test.shape[0])\n",
    "# print('non-zeron in y_hat =', np.count_nonzero(y_hat))\n",
    "print('right_predict_count =', y_test.shape[0] - wrong_predict_count)\n",
    "print('in right_predict_count: zero_to_zero =', zero_to_zero)\n",
    "print('in right_predict_count: one_to_one =', one_to_one)\n",
    "print('wrong_predict_count =', wrong_predict_count)\n",
    "print('in wrong_predict_count: zero_to_one =', zero_to_one)\n",
    "print(1.0*zero_to_one/(zero_to_one+zero_to_zero))\n",
    "print('in wrong_predict_count: one_to_zero =', one_to_zero)\n",
    "print(1.0*one_to_zero/(one_to_one+one_to_zero))\n",
    "\n",
    "print(1.0*55/373)\n",
    "\n",
    "estimator.score(X_test, y_test)\n",
    "# estimator.staged_score(X_test, y_test)\n",
    "# rmse = np.sqrt(mean_squared_error(y_test, y_hat))\n",
    "# rmse\n",
    "\n",
    "# X_joint = pd.concat([X_train, y_train], axis=1, join='outer')\n",
    "# X_joint.head(n=1000)"
   ]
  },
  {
   "cell_type": "markdown",
   "metadata": {},
   "source": [
    "<div class=\"alert alert-danger\">\n",
    "Regression.\n",
    "</div>"
   ]
  },
  {
   "cell_type": "code",
   "execution_count": 76,
   "metadata": {
    "collapsed": false,
    "scrolled": true
   },
   "outputs": [
    {
     "data": {
      "text/plain": [
       "array([[ 0.        ,  0.00091682,  0.01788412, ...,  0.00739163,\n",
       "         0.27372533,  0.00662224],\n",
       "       [ 0.        ,  0.00092281,  0.01775545, ...,  0.00761486,\n",
       "         0.27220775,  0.0069001 ],\n",
       "       [ 0.        ,  0.00081023,  0.01875063, ...,  0.00745248,\n",
       "         0.27227188,  0.00675496],\n",
       "       ..., \n",
       "       [ 0.        ,  0.00078708,  0.03060067, ...,  0.00748404,\n",
       "         0.15971649,  0.00572088],\n",
       "       [ 0.        ,  0.00081195,  0.02876198, ...,  0.00978416,\n",
       "         0.1629566 ,  0.00888447],\n",
       "       [ 0.        ,  0.00084619,  0.02856601, ...,  0.01075866,\n",
       "         0.14647318,  0.00986602]])"
      ]
     },
     "execution_count": 76,
     "metadata": {},
     "output_type": "execute_result"
    }
   ],
   "source": [
    "X_time = microclimate_train.copy()\n",
    "y_time = labels.copy()\n",
    "\n",
    "X_time = X_time.drop(labels=X_time.index[0:4], axis=0).copy()\n",
    "y_time = y_time.drop(labels=y_time.index[0:4], axis=0).copy()\n",
    "        \n",
    "X_time.fillna(method='pad')\n",
    "        \n",
    "for timestamp in X_time.index:\n",
    "    if np.isnan(X_time.loc[timestamp]['percip_mm']):\n",
    "        X_time = X_time.drop(labels=timestamp, axis=0).copy()\n",
    "        y_time = y_time.drop(labels=timestamp, axis=0).copy()\n",
    "    elif np.isnan(X_time.loc[timestamp]['gusts_ms']):\n",
    "        X_time = X_time.drop(labels=timestamp, axis=0).copy()\n",
    "        y_time = y_time.drop(labels=timestamp, axis=0).copy()\n",
    "    elif np.isnan(X_time.loc[timestamp]['leafwet460_min']):\n",
    "        X_time.loc[timestamp]['leafwet460_min'] = 0      \n",
    "\n",
    "normalize(X_time, copy=False)"
   ]
  },
  {
   "cell_type": "code",
   "execution_count": 83,
   "metadata": {
    "collapsed": true
   },
   "outputs": [],
   "source": [
    "X_train, X_test, y_train, y_test = train_test_split(X_time,\n",
    "                                                    y_time,\n",
    "                                                    test_size=0.3, random_state=100)"
   ]
  },
  {
   "cell_type": "code",
   "execution_count": 84,
   "metadata": {
    "collapsed": false
   },
   "outputs": [
    {
     "name": "stderr",
     "output_type": "stream",
     "text": [
      "/Users/Shauro/anaconda/lib/python2.7/site-packages/ipykernel/__main__.py:2: DataConversionWarning: A column-vector y was passed when a 1d array was expected. Please change the shape of y to (n_samples,), for example using ravel().\n",
      "  from ipykernel import kernelapp as app\n"
     ]
    }
   ],
   "source": [
    "estimator = ensemble.RandomForestRegressor()\n",
    "estimator.fit(X_train, y_train)\n",
    "y_hat_regression = estimator.predict(X_test)\n",
    "\n",
    "\n",
    "# steps_random_forest = [('imputer', Imputer()),\n",
    "#          ('pca', PCA()),\n",
    "#          ('rf', ensemble.RandomForestRegressor())]\n",
    "# pipe_random_forest = Pipeline(steps_random_forest)\n",
    "\n",
    "# # create the grid search\n",
    "# params = {\n",
    "#     'pca__n_components': range(2, X_train.shape[1]),\n",
    "#     'imputer__strategy': ['mean', 'median', 'most_frequent'],\n",
    "#     'rf__n_estimators': [5, 10, 20]\n",
    "# }\n",
    "# estimator = GridSearchCV(pipe_random_forest, param_grid=params, n_jobs=-1, verbose=1)\n",
    "# estimator.fit(X_train, y_train.values.ravel())\n",
    "\n",
    "# y_hat_regression = estimator.predict(X_test)"
   ]
  },
  {
   "cell_type": "code",
   "execution_count": 82,
   "metadata": {
    "collapsed": false
   },
   "outputs": [
    {
     "data": {
      "text/plain": [
       "2.0701903248284124"
      ]
     },
     "execution_count": 82,
     "metadata": {},
     "output_type": "execute_result"
    }
   ],
   "source": [
    "# for i in xrange(y_hat.shape[0]):\n",
    "#     if y_hat[i] == 1:\n",
    "#         y_hat[i] = y_hat_regression[i]\n",
    "        \n",
    "# rmse = np.sqrt(mean_squared_error(y_test, y_hat))\n",
    "# rmse"
   ]
  },
  {
   "cell_type": "code",
   "execution_count": 80,
   "metadata": {
    "collapsed": false
   },
   "outputs": [
    {
     "ename": "ValueError",
     "evalue": "Unknown label type: array([[ 0.],\n       [ 0.],\n       [ 0.],\n       ..., \n       [ 0.],\n       [ 0.],\n       [ 0.]])",
     "output_type": "error",
     "traceback": [
      "\u001b[0;31m---------------------------------------------------------------------------\u001b[0m",
      "\u001b[0;31mValueError\u001b[0m                                Traceback (most recent call last)",
      "\u001b[0;32m<ipython-input-80-14807bee2564>\u001b[0m in \u001b[0;36m<module>\u001b[0;34m()\u001b[0m\n\u001b[1;32m      1\u001b[0m \u001b[0mestimator\u001b[0m \u001b[0;34m=\u001b[0m \u001b[0mensemble\u001b[0m\u001b[0;34m.\u001b[0m\u001b[0mAdaBoostClassifier\u001b[0m\u001b[0;34m(\u001b[0m\u001b[0mn_estimators\u001b[0m\u001b[0;34m=\u001b[0m\u001b[0;36m40\u001b[0m\u001b[0;34m,\u001b[0m\u001b[0mlearning_rate\u001b[0m\u001b[0;34m=\u001b[0m\u001b[0;36m1\u001b[0m\u001b[0;34m)\u001b[0m\u001b[0;34m\u001b[0m\u001b[0m\n\u001b[1;32m      2\u001b[0m \u001b[0;31m#estimator = svm.SVC(C=1.0, kernel='poly', degree=30, gamma='auto', coef0=0.0, shrinking=True, probability=False, tol=0.001, cache_size=200, class_weight=None, verbose=False, max_iter=-1, decision_function_shape=None, random_state=None)\u001b[0m\u001b[0;34m\u001b[0m\u001b[0;34m\u001b[0m\u001b[0m\n\u001b[0;32m----> 3\u001b[0;31m \u001b[0mestimator\u001b[0m\u001b[0;34m.\u001b[0m\u001b[0mfit\u001b[0m\u001b[0;34m(\u001b[0m\u001b[0mX_train\u001b[0m\u001b[0;34m,\u001b[0m \u001b[0my_train\u001b[0m\u001b[0;34m.\u001b[0m\u001b[0mvalues\u001b[0m\u001b[0;34m.\u001b[0m\u001b[0mravel\u001b[0m\u001b[0;34m(\u001b[0m\u001b[0;34m)\u001b[0m\u001b[0;34m)\u001b[0m\u001b[0;34m\u001b[0m\u001b[0m\n\u001b[0m\u001b[1;32m      4\u001b[0m \u001b[0my_hat\u001b[0m \u001b[0;34m=\u001b[0m \u001b[0mestimator\u001b[0m\u001b[0;34m.\u001b[0m\u001b[0mpredict\u001b[0m\u001b[0;34m(\u001b[0m\u001b[0mX_test\u001b[0m\u001b[0;34m)\u001b[0m\u001b[0;34m\u001b[0m\u001b[0m\n\u001b[1;32m      5\u001b[0m \u001b[0;34m\u001b[0m\u001b[0m\n",
      "\u001b[0;32m/Users/Shauro/anaconda/lib/python2.7/site-packages/sklearn/ensemble/weight_boosting.pyc\u001b[0m in \u001b[0;36mfit\u001b[0;34m(self, X, y, sample_weight)\u001b[0m\n\u001b[1;32m    403\u001b[0m \u001b[0;34m\u001b[0m\u001b[0m\n\u001b[1;32m    404\u001b[0m         \u001b[0;31m# Fit\u001b[0m\u001b[0;34m\u001b[0m\u001b[0;34m\u001b[0m\u001b[0m\n\u001b[0;32m--> 405\u001b[0;31m         \u001b[0;32mreturn\u001b[0m \u001b[0msuper\u001b[0m\u001b[0;34m(\u001b[0m\u001b[0mAdaBoostClassifier\u001b[0m\u001b[0;34m,\u001b[0m \u001b[0mself\u001b[0m\u001b[0;34m)\u001b[0m\u001b[0;34m.\u001b[0m\u001b[0mfit\u001b[0m\u001b[0;34m(\u001b[0m\u001b[0mX\u001b[0m\u001b[0;34m,\u001b[0m \u001b[0my\u001b[0m\u001b[0;34m,\u001b[0m \u001b[0msample_weight\u001b[0m\u001b[0;34m)\u001b[0m\u001b[0;34m\u001b[0m\u001b[0m\n\u001b[0m\u001b[1;32m    406\u001b[0m \u001b[0;34m\u001b[0m\u001b[0m\n\u001b[1;32m    407\u001b[0m     \u001b[0;32mdef\u001b[0m \u001b[0m_validate_estimator\u001b[0m\u001b[0;34m(\u001b[0m\u001b[0mself\u001b[0m\u001b[0;34m)\u001b[0m\u001b[0;34m:\u001b[0m\u001b[0;34m\u001b[0m\u001b[0m\n",
      "\u001b[0;32m/Users/Shauro/anaconda/lib/python2.7/site-packages/sklearn/ensemble/weight_boosting.pyc\u001b[0m in \u001b[0;36mfit\u001b[0;34m(self, X, y, sample_weight)\u001b[0m\n\u001b[1;32m    138\u001b[0m                 \u001b[0miboost\u001b[0m\u001b[0;34m,\u001b[0m\u001b[0;34m\u001b[0m\u001b[0m\n\u001b[1;32m    139\u001b[0m                 \u001b[0mX\u001b[0m\u001b[0;34m,\u001b[0m \u001b[0my\u001b[0m\u001b[0;34m,\u001b[0m\u001b[0;34m\u001b[0m\u001b[0m\n\u001b[0;32m--> 140\u001b[0;31m                 sample_weight)\n\u001b[0m\u001b[1;32m    141\u001b[0m \u001b[0;34m\u001b[0m\u001b[0m\n\u001b[1;32m    142\u001b[0m             \u001b[0;31m# Early termination\u001b[0m\u001b[0;34m\u001b[0m\u001b[0;34m\u001b[0m\u001b[0m\n",
      "\u001b[0;32m/Users/Shauro/anaconda/lib/python2.7/site-packages/sklearn/ensemble/weight_boosting.pyc\u001b[0m in \u001b[0;36m_boost\u001b[0;34m(self, iboost, X, y, sample_weight)\u001b[0m\n\u001b[1;32m    460\u001b[0m         \"\"\"\n\u001b[1;32m    461\u001b[0m         \u001b[0;32mif\u001b[0m \u001b[0mself\u001b[0m\u001b[0;34m.\u001b[0m\u001b[0malgorithm\u001b[0m \u001b[0;34m==\u001b[0m \u001b[0;34m'SAMME.R'\u001b[0m\u001b[0;34m:\u001b[0m\u001b[0;34m\u001b[0m\u001b[0m\n\u001b[0;32m--> 462\u001b[0;31m             \u001b[0;32mreturn\u001b[0m \u001b[0mself\u001b[0m\u001b[0;34m.\u001b[0m\u001b[0m_boost_real\u001b[0m\u001b[0;34m(\u001b[0m\u001b[0miboost\u001b[0m\u001b[0;34m,\u001b[0m \u001b[0mX\u001b[0m\u001b[0;34m,\u001b[0m \u001b[0my\u001b[0m\u001b[0;34m,\u001b[0m \u001b[0msample_weight\u001b[0m\u001b[0;34m)\u001b[0m\u001b[0;34m\u001b[0m\u001b[0m\n\u001b[0m\u001b[1;32m    463\u001b[0m \u001b[0;34m\u001b[0m\u001b[0m\n\u001b[1;32m    464\u001b[0m         \u001b[0;32melse\u001b[0m\u001b[0;34m:\u001b[0m  \u001b[0;31m# elif self.algorithm == \"SAMME\":\u001b[0m\u001b[0;34m\u001b[0m\u001b[0m\n",
      "\u001b[0;32m/Users/Shauro/anaconda/lib/python2.7/site-packages/sklearn/ensemble/weight_boosting.pyc\u001b[0m in \u001b[0;36m_boost_real\u001b[0;34m(self, iboost, X, y, sample_weight)\u001b[0m\n\u001b[1;32m    474\u001b[0m             \u001b[0;32mpass\u001b[0m\u001b[0;34m\u001b[0m\u001b[0m\n\u001b[1;32m    475\u001b[0m \u001b[0;34m\u001b[0m\u001b[0m\n\u001b[0;32m--> 476\u001b[0;31m         \u001b[0mestimator\u001b[0m\u001b[0;34m.\u001b[0m\u001b[0mfit\u001b[0m\u001b[0;34m(\u001b[0m\u001b[0mX\u001b[0m\u001b[0;34m,\u001b[0m \u001b[0my\u001b[0m\u001b[0;34m,\u001b[0m \u001b[0msample_weight\u001b[0m\u001b[0;34m=\u001b[0m\u001b[0msample_weight\u001b[0m\u001b[0;34m)\u001b[0m\u001b[0;34m\u001b[0m\u001b[0m\n\u001b[0m\u001b[1;32m    477\u001b[0m \u001b[0;34m\u001b[0m\u001b[0m\n\u001b[1;32m    478\u001b[0m         \u001b[0my_predict_proba\u001b[0m \u001b[0;34m=\u001b[0m \u001b[0mestimator\u001b[0m\u001b[0;34m.\u001b[0m\u001b[0mpredict_proba\u001b[0m\u001b[0;34m(\u001b[0m\u001b[0mX\u001b[0m\u001b[0;34m)\u001b[0m\u001b[0;34m\u001b[0m\u001b[0m\n",
      "\u001b[0;32m/Users/Shauro/anaconda/lib/python2.7/site-packages/sklearn/tree/tree.pyc\u001b[0m in \u001b[0;36mfit\u001b[0;34m(self, X, y, sample_weight, check_input, X_idx_sorted)\u001b[0m\n\u001b[1;32m    175\u001b[0m \u001b[0;34m\u001b[0m\u001b[0m\n\u001b[1;32m    176\u001b[0m         \u001b[0;32mif\u001b[0m \u001b[0mis_classification\u001b[0m\u001b[0;34m:\u001b[0m\u001b[0;34m\u001b[0m\u001b[0m\n\u001b[0;32m--> 177\u001b[0;31m             \u001b[0mcheck_classification_targets\u001b[0m\u001b[0;34m(\u001b[0m\u001b[0my\u001b[0m\u001b[0;34m)\u001b[0m\u001b[0;34m\u001b[0m\u001b[0m\n\u001b[0m\u001b[1;32m    178\u001b[0m             \u001b[0my\u001b[0m \u001b[0;34m=\u001b[0m \u001b[0mnp\u001b[0m\u001b[0;34m.\u001b[0m\u001b[0mcopy\u001b[0m\u001b[0;34m(\u001b[0m\u001b[0my\u001b[0m\u001b[0;34m)\u001b[0m\u001b[0;34m\u001b[0m\u001b[0m\n\u001b[1;32m    179\u001b[0m \u001b[0;34m\u001b[0m\u001b[0m\n",
      "\u001b[0;32m/Users/Shauro/anaconda/lib/python2.7/site-packages/sklearn/utils/multiclass.pyc\u001b[0m in \u001b[0;36mcheck_classification_targets\u001b[0;34m(y)\u001b[0m\n\u001b[1;32m    171\u001b[0m     if y_type not in ['binary', 'multiclass', 'multiclass-multioutput', \n\u001b[1;32m    172\u001b[0m             'multilabel-indicator', 'multilabel-sequences']:\n\u001b[0;32m--> 173\u001b[0;31m         \u001b[0;32mraise\u001b[0m \u001b[0mValueError\u001b[0m\u001b[0;34m(\u001b[0m\u001b[0;34m\"Unknown label type: %r\"\u001b[0m \u001b[0;34m%\u001b[0m \u001b[0my\u001b[0m\u001b[0;34m)\u001b[0m\u001b[0;34m\u001b[0m\u001b[0m\n\u001b[0m\u001b[1;32m    174\u001b[0m \u001b[0;34m\u001b[0m\u001b[0m\n\u001b[1;32m    175\u001b[0m \u001b[0;34m\u001b[0m\u001b[0m\n",
      "\u001b[0;31mValueError\u001b[0m: Unknown label type: array([[ 0.],\n       [ 0.],\n       [ 0.],\n       ..., \n       [ 0.],\n       [ 0.],\n       [ 0.]])"
     ]
    }
   ],
   "source": [
    "estimator = ensemble.AdaBoostClassifier(n_estimators=40,learning_rate=1)\n",
    "#estimator = svm.SVC(C=1.0, kernel='poly', degree=30, gamma='auto', coef0=0.0, shrinking=True, probability=False, tol=0.001, cache_size=200, class_weight=None, verbose=False, max_iter=-1, decision_function_shape=None, random_state=None)\n",
    "estimator.fit(X_train, y_train.values.ravel())\n",
    "y_hat = estimator.predict(X_test)\n",
    "\n",
    "wrong_predict_count = 0\n",
    "zero_to_one = 0\n",
    "one_to_zero = 0\n",
    "one_to_one = 0\n",
    "zero_to_zero = 0\n",
    "for i in xrange(y_test.shape[0]):\n",
    "    if y_test.values[i] != y_hat[i]:\n",
    "        wrong_predict_count += 1\n",
    "        if y_test.values[i] == 0:\n",
    "            zero_to_one += 1\n",
    "        else:\n",
    "            one_to_zero += 1\n",
    "    else:\n",
    "        if y_test.values[i] == 0:\n",
    "            zero_to_zero += 1\n",
    "        else:\n",
    "            one_to_one += 1\n",
    "            \n",
    "print('test size =', y_test.shape[0])\n",
    "# print('non-zeron in y_hat =', np.count_nonzero(y_hat))\n",
    "print('right_predict_count =', y_test.shape[0] - wrong_predict_count)\n",
    "print('in right_predict_count: zero_to_zero =', zero_to_zero)\n",
    "print('in right_predict_count: one_to_one =', one_to_one)\n",
    "print('wrong_predict_count =', wrong_predict_count)\n",
    "print('in wrong_predict_count: zero_to_one =', zero_to_one)\n",
    "print(1.0*zero_to_one/(zero_to_one+zero_to_zero))\n",
    "print('in wrong_predict_count: one_to_zero =', one_to_zero)\n",
    "print(1.0*one_to_zero/(one_to_one+one_to_zero))\n",
    "\n",
    "print(1.0*55/373)\n",
    "\n",
    "estimator.score(X_test, y_test)\n",
    "# estimator.staged_score(X_test, y_test)\n",
    "# rmse = np.sqrt(mean_squared_error(y_test, y_hat))\n",
    "# rmse\n",
    "\n",
    "# X_joint = pd.concat([X_train, y_train], axis=1, join='outer')\n",
    "# X_joint.head(n=1000)"
   ]
  },
  {
   "cell_type": "code",
   "execution_count": 86,
   "metadata": {
    "collapsed": false,
    "scrolled": true
   },
   "outputs": [
    {
     "name": "stdout",
     "output_type": "stream",
     "text": [
      "test size = 1734\n",
      "right_predict_count = 1571\n",
      "in right_predict_count: zero_to_zero = 1234\n",
      "in right_predict_count: one_to_one = 337\n",
      "wrong_predict_count = 163\n",
      "in wrong_predict_count: zero_to_one = 127\n",
      "0.0933137398971\n",
      "in wrong_predict_count: one_to_zero = 36\n",
      "0.0965147453083\n",
      "loss = 2.22166143322\n"
     ]
    }
   ],
   "source": [
    "y_classifier = np.copy(y_hat)\n",
    "y_regression = np.copy(y_hat_regression)\n",
    "\n",
    "predict_total = y_test.copy()\n",
    "\n",
    "for i in xrange(y_regression.shape[0]):\n",
    "    if abs(y_regression[i]) < 0.01 :\n",
    "        y_regression[i] = 0\n",
    "# print(y_regression)\n",
    "\n",
    "predict_total['y_classider'] = y_classifier\n",
    "predict_total['y_regression'] = y_regression\n",
    "\n",
    "# for i in xrange(y_regression.shape[0]):\n",
    "#     predict_total.append((y_classifier[i], y_regression[i], y_test.values[i]))\n",
    "# print(predict_total)\n",
    "\n",
    "wrong_predict_count = 0\n",
    "zero_to_one = 0\n",
    "one_to_zero = 0\n",
    "one_to_one = 0\n",
    "zero_to_zero = 0\n",
    "\n",
    "for i in xrange(y_test.shape[0]):\n",
    "    if y_test.values[i] == 0:\n",
    "        if y_regression[i] == 0:\n",
    "            zero_to_zero += 1\n",
    "        else:\n",
    "            wrong_predict_count += 1\n",
    "            zero_to_one += 1\n",
    "    else:\n",
    "        if y_regression[i] == 0:\n",
    "            wrong_predict_count += 1\n",
    "            one_to_zero += 1\n",
    "        else:\n",
    "            one_to_one += 1\n",
    "            \n",
    "print('test size =', y_test.shape[0])\n",
    "# print('non-zeron in y_hat =', np.count_nonzero(y_hat))\n",
    "print('right_predict_count =', y_test.shape[0] - wrong_predict_count)\n",
    "print('in right_predict_count: zero_to_zero =', zero_to_zero)\n",
    "print('in right_predict_count: one_to_one =', one_to_one)\n",
    "print('wrong_predict_count =', wrong_predict_count)\n",
    "print('in wrong_predict_count: zero_to_one =', zero_to_one)\n",
    "print(1.0*zero_to_one/(zero_to_one+zero_to_zero))\n",
    "print('in wrong_predict_count: one_to_zero =', one_to_zero)\n",
    "print(1.0*one_to_zero/(one_to_one+one_to_zero))\n",
    "\n",
    "rmse = np.sqrt(mean_squared_error(y_test, y_regression))\n",
    "print('loss =', rmse)\n",
    "        \n",
    "predict_total.head(n=1734)\n",
    "\n",
    "predict_total.to_csv(\"./three_combine.csv\")"
   ]
  },
  {
   "cell_type": "code",
   "execution_count": 87,
   "metadata": {
    "collapsed": false
   },
   "outputs": [
    {
     "data": {
      "image/png": "[encoded data removed]",
      "text/plain": [
       "<matplotlib.figure.Figure at 0x11e3ef050>"
      ]
     },
     "metadata": {},
     "output_type": "display_data"
    }
   ],
   "source": [
    "fig, ax = plt.subplots(figsize=(16, 4))\n",
    "err = y_regression - y_test.values.ravel()\n",
    "\n",
    "ax.plot_date(y_test.index, err, c='r', ms=3)\n",
    "ax.set_title('9 Features + Random Forest Regression: residuals on test data (each)', fontsize=20)\n",
    "ax.set_ylabel('error')\n",
    "\n",
    "plt.show()\n",
    "\n",
    "# cc = 0\n",
    "# for i in xrange(err.shape[0]):\n",
    "#     if y_regression[i] - y_test.values[0][i] < 0:\n",
    "#         cc += 1"
   ]
  },
  {
   "cell_type": "markdown",
   "metadata": {},
   "source": [
    "<div class=\"alert alert-danger\">\n",
    "Add previous yield.\n",
    "</div>"
   ]
  },
  {
   "cell_type": "code",
   "execution_count": 254,
   "metadata": {
    "collapsed": false
   },
   "outputs": [
    {
     "data": {
      "text/plain": [
       "array([[ 0.        ,  0.00091682,  0.01788412, ...,  0.00739163,\n",
       "         0.27372533,  0.00662224],\n",
       "       [ 0.        ,  0.00092281,  0.01775545, ...,  0.00761486,\n",
       "         0.27220775,  0.0069001 ],\n",
       "       [ 0.        ,  0.00081023,  0.01875063, ...,  0.00745248,\n",
       "         0.27227188,  0.00675496],\n",
       "       ..., \n",
       "       [ 0.        ,  0.00078708,  0.03060067, ...,  0.00748404,\n",
       "         0.15971649,  0.00572088],\n",
       "       [ 0.        ,  0.00081195,  0.02876198, ...,  0.00978416,\n",
       "         0.1629566 ,  0.00888447],\n",
       "       [ 0.        ,  0.00084619,  0.02856601, ...,  0.01075866,\n",
       "         0.14647318,  0.00986602]])"
      ]
     },
     "execution_count": 254,
     "metadata": {},
     "output_type": "execute_result"
    }
   ],
   "source": [
    "X_time = microclimate_train.copy()\n",
    "y_time = labels.copy()\n",
    "\n",
    "X_time = X_time.drop(labels=X_time.index[0:4], axis=0).copy()\n",
    "y_time = y_time.drop(labels=y_time.index[0:4], axis=0).copy()\n",
    "        \n",
    "X_time.fillna(method='pad')\n",
    "        \n",
    "for timestamp in X_time.index:\n",
    "    if np.isnan(X_time.loc[timestamp]['percip_mm']):\n",
    "        X_time = X_time.drop(labels=timestamp, axis=0).copy()\n",
    "        y_time = y_time.drop(labels=timestamp, axis=0).copy()\n",
    "    elif np.isnan(X_time.loc[timestamp]['gusts_ms']):\n",
    "        X_time = X_time.drop(labels=timestamp, axis=0).copy()\n",
    "        y_time = y_time.drop(labels=timestamp, axis=0).copy()\n",
    "    elif np.isnan(X_time.loc[timestamp]['leafwet460_min']):\n",
    "        X_time.loc[timestamp]['leafwet460_min'] = 0      \n",
    "\n",
    "normalize(X_time, copy=False)"
   ]
  },
  {
   "cell_type": "code",
   "execution_count": 255,
   "metadata": {
    "collapsed": false
   },
   "outputs": [],
   "source": [
    "X_joint = X_time.copy()\n",
    "y_new = y_time.copy()\n",
    "for i in [2]:\n",
    "    offset = i\n",
    "    y_pretime = y_new.copy()\n",
    "    y_pretime.index = y_pretime.index + pd.DateOffset(hours=offset)\n",
    "    y_pretime = y_pretime.rename(columns={'yield': 'pre_yield_' + str(offset) + '_hours'})\n",
    "    y_joint = pd.concat([y_new, y_pretime], axis=1, join='inner')\n",
    "    X_joint = pd.concat([X_joint, y_joint], axis=1, join='outer')\n",
    "    X_joint = X_joint.drop(labels='yield', axis=1)\n",
    "    \n",
    "for timestamp in X_time.index:\n",
    "    for i in [2]:\n",
    "        if np.isnan(X_joint.loc[timestamp]['pre_yield_' + str(i) + '_hours']):\n",
    "            X_joint = X_joint.drop(labels=timestamp, axis=0).copy()\n",
    "            y_new = y_new.drop(labels=timestamp, axis=0).copy()"
   ]
  },
  {
   "cell_type": "code",
   "execution_count": 256,
   "metadata": {
    "collapsed": true
   },
   "outputs": [],
   "source": [
    "X_train, X_test, y_train, y_test = train_test_split(X_joint,\n",
    "                                                    y_new,\n",
    "                                                    test_size=0.3, random_state=100)"
   ]
  },
  {
   "cell_type": "code",
   "execution_count": 270,
   "metadata": {
    "collapsed": false
   },
   "outputs": [
    {
     "name": "stderr",
     "output_type": "stream",
     "text": [
      "/Users/Shauro/anaconda/lib/python2.7/site-packages/sklearn/utils/validation.py:515: DataConversionWarning: A column-vector y was passed when a 1d array was expected. Please change the shape of y to (n_samples, ), for example using ravel().\n",
      "  y = column_or_1d(y, warn=True)\n"
     ]
    },
    {
     "name": "stdout",
     "output_type": "stream",
     "text": [
      "test size = 1722\n",
      "right_predict_count = 1628\n",
      "in right_predict_count: zero_to_zero = 1312\n",
      "in right_predict_count: one_to_one = 316\n",
      "wrong_predict_count = 94\n",
      "in wrong_predict_count: zero_to_one = 36\n",
      "0.026706231454\n",
      "in wrong_predict_count: one_to_zero = 58\n",
      "0.155080213904\n",
      "0.14745308311\n"
     ]
    }
   ],
   "source": [
    "y_for_ada = y_train.copy()\n",
    "\n",
    "for timestamp in y_for_ada.index:\n",
    "    if y_for_ada.loc[timestamp]['yield'] > 0:\n",
    "        y_for_ada.loc[timestamp]['yield'] = 1\n",
    "\n",
    "estimator = ensemble.AdaBoostClassifier(n_estimators=40,learning_rate=1)\n",
    "#estimator = svm.SVC(C=1.0, kernel='poly', degree=30, gamma='auto', coef0=0.0, shrinking=True, probability=False, tol=0.001, cache_size=200, class_weight=None, verbose=False, max_iter=-1, decision_function_shape=None, random_state=None)\n",
    "estimator.fit(X_train, y_for_ada)\n",
    "y_hat = estimator.predict(X_test)\n",
    "\n",
    "wrong_predict_count = 0\n",
    "zero_to_one = 0\n",
    "one_to_zero = 0\n",
    "one_to_one = 0\n",
    "zero_to_zero = 0\n",
    "for i in xrange(y_test.shape[0]):\n",
    "    if y_test.values[i] == 0:\n",
    "        if y_hat[i] == 0:\n",
    "            zero_to_zero += 1\n",
    "        else:\n",
    "            wrong_predict_count += 1\n",
    "            zero_to_one += 1\n",
    "    else:\n",
    "        if y_hat[i] == 0:\n",
    "            wrong_predict_count += 1\n",
    "            one_to_zero += 1\n",
    "        else:\n",
    "            one_to_one += 1\n",
    "            \n",
    "print('test size =', y_test.shape[0])\n",
    "# print('non-zeron in y_hat =', np.count_nonzero(y_hat))\n",
    "print('right_predict_count =', y_test.shape[0] - wrong_predict_count)\n",
    "print('in right_predict_count: zero_to_zero =', zero_to_zero)\n",
    "print('in right_predict_count: one_to_one =', one_to_one)\n",
    "print('wrong_predict_count =', wrong_predict_count)\n",
    "print('in wrong_predict_count: zero_to_one =', zero_to_one)\n",
    "print(1.0*zero_to_one/(zero_to_one+zero_to_zero))\n",
    "print('in wrong_predict_count: one_to_zero =', one_to_zero)\n",
    "print(1.0*one_to_zero/(one_to_one+one_to_zero))\n",
    "\n",
    "print(1.0*55/373)\n",
    "\n",
    "# estimator.score(X_test, y_test)\n",
    "# estimator.staged_score(X_test, y_test)\n",
    "# rmse = np.sqrt(mean_squared_error(y_test, y_hat))\n",
    "# rmse\n",
    "\n",
    "# X_joint = pd.concat([X_train, y_train], axis=1, join='outer')\n",
    "# X_joint.head(n=1000)"
   ]
  },
  {
   "cell_type": "code",
   "execution_count": 271,
   "metadata": {
    "collapsed": false
   },
   "outputs": [
    {
     "name": "stderr",
     "output_type": "stream",
     "text": [
      "/Users/Shauro/anaconda/lib/python2.7/site-packages/ipykernel/__main__.py:2: DataConversionWarning: A column-vector y was passed when a 1d array was expected. Please change the shape of y to (n_samples,), for example using ravel().\n",
      "  from ipykernel import kernelapp as app\n"
     ]
    }
   ],
   "source": [
    "estimator = ensemble.RandomForestRegressor()\n",
    "estimator.fit(X_train, y_train)\n",
    "y_hat_regression = estimator.predict(X_test)"
   ]
  },
  {
   "cell_type": "code",
   "execution_count": 272,
   "metadata": {
    "collapsed": false
   },
   "outputs": [
    {
     "name": "stdout",
     "output_type": "stream",
     "text": [
      "test size = 1722\n",
      "right_predict_count = 1582\n",
      "in right_predict_count: zero_to_zero = 1239\n",
      "in right_predict_count: one_to_one = 343\n",
      "wrong_predict_count = 140\n",
      "in wrong_predict_count: zero_to_one = 109\n",
      "0.0808605341246\n",
      "in wrong_predict_count: one_to_zero = 31\n",
      "0.0828877005348\n",
      "loss = 1.77872383975\n"
     ]
    }
   ],
   "source": [
    "y_classifier = np.copy(y_hat)\n",
    "y_regression = np.copy(y_hat_regression)\n",
    "\n",
    "predict_total = y_test.copy()\n",
    "\n",
    "for i in xrange(y_regression.shape[0]):\n",
    "    if abs(y_regression[i]) < 0.01 :\n",
    "        y_regression[i] = 0\n",
    "# print(y_regression)\n",
    "\n",
    "predict_total['y_classider'] = y_classifier\n",
    "predict_total['y_regression'] = y_regression\n",
    "\n",
    "# for i in xrange(y_regression.shape[0]):\n",
    "#     predict_total.append((y_classifier[i], y_regression[i], y_test.values[i]))\n",
    "# print(predict_total)\n",
    "\n",
    "wrong_predict_count = 0\n",
    "zero_to_one = 0\n",
    "one_to_zero = 0\n",
    "one_to_one = 0\n",
    "zero_to_zero = 0\n",
    "\n",
    "for i in xrange(y_test.shape[0]):\n",
    "    if y_test.values[i] == 0:\n",
    "        if y_regression[i] == 0:\n",
    "            zero_to_zero += 1\n",
    "        else:\n",
    "            wrong_predict_count += 1\n",
    "            zero_to_one += 1\n",
    "    else:\n",
    "        if y_regression[i] == 0:\n",
    "            wrong_predict_count += 1\n",
    "            one_to_zero += 1\n",
    "        else:\n",
    "            one_to_one += 1\n",
    "            \n",
    "print('test size =', y_test.shape[0])\n",
    "# print('non-zeron in y_hat =', np.count_nonzero(y_hat))\n",
    "print('right_predict_count =', y_test.shape[0] - wrong_predict_count)\n",
    "print('in right_predict_count: zero_to_zero =', zero_to_zero)\n",
    "print('in right_predict_count: one_to_one =', one_to_one)\n",
    "print('wrong_predict_count =', wrong_predict_count)\n",
    "print('in wrong_predict_count: zero_to_one =', zero_to_one)\n",
    "print(1.0*zero_to_one/(zero_to_one+zero_to_zero))\n",
    "print('in wrong_predict_count: one_to_zero =', one_to_zero)\n",
    "print(1.0*one_to_zero/(one_to_one+one_to_zero))\n",
    "\n",
    "rmse = np.sqrt(mean_squared_error(y_test, y_regression))\n",
    "print('loss =', rmse)\n",
    "        \n",
    "predict_total.head(n=1734)\n",
    "\n",
    "predict_total.to_csv(\"./three_combine_pre_yield.csv\")"
   ]
  },
  {
   "cell_type": "code",
   "execution_count": 273,
   "metadata": {
    "collapsed": false
   },
   "outputs": [
    {
     "name": "stdout",
     "output_type": "stream",
     "text": [
      "2013-12-26 22:00:00 y_regression = 26.822742476 ; y_test = 1.114827202\n",
      "2014-08-03 02:00:00 y_regression = 14.9324136001 ; y_test = 2.773132664\n",
      "2014-04-02 12:00:00 y_regression = 11.6241638796 ; y_test = 0.15328874\n",
      "2013-12-26 04:00:00 y_regression = 27.208751395 ; y_test = 11.23188406\n",
      "2014-02-17 04:00:00 y_regression = 14.6760033446 ; y_test = 26.06605351\n",
      "2014-04-19 04:00:00 y_regression = 22.479793758 ; y_test = 0.10451505\n",
      "2015-10-31 18:00:00 y_regression = 2.9967948717 ; y_test = 16.10925307\n",
      "2015-01-31 16:00:00 y_regression = 18.6858974343 ; y_test = 30.2745262\n"
     ]
    },
    {
     "data": {
      "image/png": "[encoded data removed]",
      "text/plain": [
       "<matplotlib.figure.Figure at 0x114c6ce90>"
      ]
     },
     "metadata": {},
     "output_type": "display_data"
    }
   ],
   "source": [
    "fig, ax = plt.subplots(figsize=(16, 4))\n",
    "err = y_regression - y_test.values.ravel()\n",
    "\n",
    "for i in xrange(len(err)):\n",
    "    if abs(err[i]) > 10:\n",
    "        print(y_test.index[i], \n",
    "              'y_regression =', y_regression[i], \n",
    "              '; y_test =', y_test.values[i][0])\n",
    "\n",
    "ax.plot_date(y_test.index, err, c='r', ms=3)\n",
    "ax.set_title('residuals on test data (each)', fontsize=20)\n",
    "ax.set_ylabel('error')\n",
    "\n",
    "plt.show()\n",
    "\n",
    "# cc = 0\n",
    "# for i in xrange(err.shape[0]):\n",
    "#     if y_regression[i] - y_test.values[0][i] < 0:\n",
    "#         cc += 1"
   ]
  },
  {
   "cell_type": "markdown",
   "metadata": {
    "collapsed": true
   },
   "source": [
    "<div class=\"alert alert-danger\">\n",
    "Read training set for 5 minites interval.\n",
    "</div>"
   ]
  },
  {
   "cell_type": "code",
   "execution_count": 274,
   "metadata": {
    "collapsed": false
   },
   "outputs": [
    {
     "data": {
      "text/plain": [
       "array([[ 0.        ,  0.00091682,  0.01788412, ...,  0.00739163,\n",
       "         0.27372533,  0.00662224],\n",
       "       [ 0.        ,  0.00092281,  0.01775545, ...,  0.00761486,\n",
       "         0.27220775,  0.0069001 ],\n",
       "       [ 0.        ,  0.00081023,  0.01875063, ...,  0.00745248,\n",
       "         0.27227188,  0.00675496],\n",
       "       ..., \n",
       "       [ 0.        ,  0.00078708,  0.03060067, ...,  0.00748404,\n",
       "         0.15971649,  0.00572088],\n",
       "       [ 0.        ,  0.00081195,  0.02876198, ...,  0.00978416,\n",
       "         0.1629566 ,  0.00888447],\n",
       "       [ 0.        ,  0.00084619,  0.02856601, ...,  0.01075866,\n",
       "         0.14647318,  0.00986602]])"
      ]
     },
     "execution_count": 274,
     "metadata": {},
     "output_type": "execute_result"
    }
   ],
   "source": [
    "X_5min = microclimate_5min.copy()\n",
    "\n",
    "X_time = microclimate_train.copy()\n",
    "y_time = labels.copy()\n",
    "\n",
    "X_time = X_time.drop(labels=X_time.index[0:4], axis=0).copy()\n",
    "y_time = y_time.drop(labels=y_time.index[0:4], axis=0).copy()\n",
    "        \n",
    "X_time.fillna(method='pad')\n",
    "        \n",
    "for timestamp in X_time.index:\n",
    "    if np.isnan(X_time.loc[timestamp]['percip_mm']):\n",
    "        X_time = X_time.drop(labels=timestamp, axis=0).copy()\n",
    "        y_time = y_time.drop(labels=timestamp, axis=0).copy()\n",
    "    elif np.isnan(X_time.loc[timestamp]['gusts_ms']):\n",
    "        X_time = X_time.drop(labels=timestamp, axis=0).copy()\n",
    "        y_time = y_time.drop(labels=timestamp, axis=0).copy()\n",
    "    elif np.isnan(X_time.loc[timestamp]['leafwet460_min']):\n",
    "        X_time.loc[timestamp]['leafwet460_min'] = 0      \n",
    "\n",
    "normalize(X_time, copy=False)"
   ]
  },
  {
   "cell_type": "code",
   "execution_count": 275,
   "metadata": {
    "collapsed": false
   },
   "outputs": [],
   "source": [
    "X_joint = X_time.copy()\n",
    "y_new = y_time.copy()\n",
    "for i in [2]:\n",
    "    offset = i\n",
    "    y_pretime = y_new.copy()\n",
    "    y_pretime.index = y_pretime.index + pd.DateOffset(hours=offset)\n",
    "    y_pretime = y_pretime.rename(columns={'yield': 'pre_yield_' + str(offset) + '_hours'})\n",
    "    y_joint = pd.concat([y_new, y_pretime], axis=1, join='inner')\n",
    "    X_joint = pd.concat([X_joint, y_joint], axis=1, join='outer')\n",
    "    X_joint = X_joint.drop(labels='yield', axis=1)\n",
    "    \n",
    "for i in [60]:\n",
    "    X_joint['pre_' + str(i) + '_min_wind_dir'] = np.nan\n",
    "    \n",
    "for timestamp in X_time.index:\n",
    "    for i in [2]:\n",
    "        if np.isnan(X_joint.loc[timestamp]['pre_yield_' + str(i) + '_hours']):\n",
    "            X_joint = X_joint.drop(labels=timestamp, axis=0).copy()\n",
    "            y_new = y_new.drop(labels=timestamp, axis=0).copy()\n",
    "            \n",
    "    # Add pre_x_min_wind_dir features.\n",
    "    for i in [60]:\n",
    "        pre_time = timestamp - pd.DateOffset(minutes=i)\n",
    "        if pre_time in X_5min.index:\n",
    "            pre_wind_dir = X_5min.loc[pre_time]['wind_dir']\n",
    "            if isinstance(pre_wind_dir, pd.Series):\n",
    "                pre_wind_dir = pre_wind_dir.mean()\n",
    "            if timestamp in X_joint.index:\n",
    "                if not np.isnan(pre_wind_dir):\n",
    "                    X_joint.loc[timestamp]['pre_' + str(i) + '_min_wind_dir'] = pre_wind_dir\n",
    "                else:\n",
    "                    X_joint = X_joint.drop(labels=timestamp, axis=0).copy()\n",
    "                    y_new = y_new.drop(labels=timestamp, axis=0).copy()\n",
    "        elif timestamp in X_joint.index:\n",
    "            X_joint = X_joint.drop(labels=timestamp, axis=0).copy()\n",
    "            y_new = y_new.drop(labels=timestamp, axis=0).copy()"
   ]
  },
  {
   "cell_type": "code",
   "execution_count": 276,
   "metadata": {
    "collapsed": true
   },
   "outputs": [],
   "source": [
    "X_train, X_test, y_train, y_test = train_test_split(X_joint,\n",
    "                                                    y_new,\n",
    "                                                    test_size=0.3, random_state=100)"
   ]
  },
  {
   "cell_type": "code",
   "execution_count": 277,
   "metadata": {
    "collapsed": false
   },
   "outputs": [
    {
     "name": "stderr",
     "output_type": "stream",
     "text": [
      "/Users/Shauro/anaconda/lib/python2.7/site-packages/ipykernel/__main__.py:2: DataConversionWarning: A column-vector y was passed when a 1d array was expected. Please change the shape of y to (n_samples,), for example using ravel().\n",
      "  from ipykernel import kernelapp as app\n"
     ]
    }
   ],
   "source": [
    "estimator = ensemble.RandomForestRegressor()\n",
    "estimator.fit(X_train, y_train)\n",
    "y_hat_regression = estimator.predict(X_test)"
   ]
  },
  {
   "cell_type": "code",
   "execution_count": 278,
   "metadata": {
    "collapsed": false
   },
   "outputs": [
    {
     "name": "stderr",
     "output_type": "stream",
     "text": [
      "/Users/Shauro/anaconda/lib/python2.7/site-packages/sklearn/utils/validation.py:515: DataConversionWarning: A column-vector y was passed when a 1d array was expected. Please change the shape of y to (n_samples, ), for example using ravel().\n",
      "  y = column_or_1d(y, warn=True)\n"
     ]
    },
    {
     "name": "stdout",
     "output_type": "stream",
     "text": [
      "test size = 1722\n",
      "right_predict_count = 1628\n",
      "in right_predict_count: zero_to_zero = 1312\n",
      "in right_predict_count: one_to_one = 316\n",
      "wrong_predict_count = 94\n",
      "in wrong_predict_count: zero_to_one = 36\n",
      "0.026706231454\n",
      "in wrong_predict_count: one_to_zero = 58\n",
      "0.155080213904\n",
      "0.14745308311\n"
     ]
    }
   ],
   "source": [
    "y_for_ada = y_train.copy()\n",
    "\n",
    "for timestamp in y_for_ada.index:\n",
    "    if y_for_ada.loc[timestamp]['yield'] > 0:\n",
    "        y_for_ada.loc[timestamp]['yield'] = 1\n",
    "\n",
    "estimator = ensemble.AdaBoostClassifier(n_estimators=40,learning_rate=1)\n",
    "#estimator = svm.SVC(C=1.0, kernel='poly', degree=30, gamma='auto', coef0=0.0, shrinking=True, probability=False, tol=0.001, cache_size=200, class_weight=None, verbose=False, max_iter=-1, decision_function_shape=None, random_state=None)\n",
    "estimator.fit(X_train, y_for_ada)\n",
    "y_hat = estimator.predict(X_test)\n",
    "\n",
    "wrong_predict_count = 0\n",
    "zero_to_one = 0\n",
    "one_to_zero = 0\n",
    "one_to_one = 0\n",
    "zero_to_zero = 0\n",
    "for i in xrange(y_test.shape[0]):\n",
    "    if y_test.values[i] == 0:\n",
    "        if y_hat[i] == 0:\n",
    "            zero_to_zero += 1\n",
    "        else:\n",
    "            wrong_predict_count += 1\n",
    "            zero_to_one += 1\n",
    "    else:\n",
    "        if y_hat[i] == 0:\n",
    "            wrong_predict_count += 1\n",
    "            one_to_zero += 1\n",
    "        else:\n",
    "            one_to_one += 1\n",
    "            \n",
    "print('test size =', y_test.shape[0])\n",
    "# print('non-zeron in y_hat =', np.count_nonzero(y_hat))\n",
    "print('right_predict_count =', y_test.shape[0] - wrong_predict_count)\n",
    "print('in right_predict_count: zero_to_zero =', zero_to_zero)\n",
    "print('in right_predict_count: one_to_one =', one_to_one)\n",
    "print('wrong_predict_count =', wrong_predict_count)\n",
    "print('in wrong_predict_count: zero_to_one =', zero_to_one)\n",
    "print(1.0*zero_to_one/(zero_to_one+zero_to_zero))\n",
    "print('in wrong_predict_count: one_to_zero =', one_to_zero)\n",
    "print(1.0*one_to_zero/(one_to_one+one_to_zero))\n",
    "\n",
    "print(1.0*55/373)\n",
    "\n",
    "# estimator.score(X_test, y_test)\n",
    "# estimator.staged_score(X_test, y_test)\n",
    "# rmse = np.sqrt(mean_squared_error(y_test, y_hat))\n",
    "# rmse\n",
    "\n",
    "# X_joint = pd.concat([X_train, y_train], axis=1, join='outer')\n",
    "# X_joint.head(n=1000)"
   ]
  },
  {
   "cell_type": "code",
   "execution_count": 279,
   "metadata": {
    "collapsed": false
   },
   "outputs": [
    {
     "name": "stdout",
     "output_type": "stream",
     "text": [
      "test size = 1722\n",
      "right_predict_count = 1587\n",
      "in right_predict_count: zero_to_zero = 1246\n",
      "in right_predict_count: one_to_one = 341\n",
      "wrong_predict_count = 135\n",
      "in wrong_predict_count: zero_to_one = 102\n",
      "0.0756676557864\n",
      "in wrong_predict_count: one_to_zero = 33\n",
      "0.0882352941176\n",
      "loss = 1.79147608374\n"
     ]
    }
   ],
   "source": [
    "y_classifier = np.copy(y_hat)\n",
    "y_regression = np.copy(y_hat_regression)\n",
    "\n",
    "predict_total = y_test.copy()\n",
    "\n",
    "for i in xrange(y_regression.shape[0]):\n",
    "    if abs(y_regression[i]) < 0.01 :\n",
    "        y_regression[i] = 0\n",
    "# print(y_regression)\n",
    "\n",
    "predict_total['y_classider'] = y_classifier\n",
    "predict_total['y_regression'] = y_regression\n",
    "\n",
    "# for i in xrange(y_regression.shape[0]):\n",
    "#     predict_total.append((y_classifier[i], y_regression[i], y_test.values[i]))\n",
    "# print(predict_total)\n",
    "\n",
    "wrong_predict_count = 0\n",
    "zero_to_one = 0\n",
    "one_to_zero = 0\n",
    "one_to_one = 0\n",
    "zero_to_zero = 0\n",
    "\n",
    "for i in xrange(y_test.shape[0]):\n",
    "    if y_test.values[i] == 0:\n",
    "        if y_regression[i] == 0:\n",
    "            zero_to_zero += 1\n",
    "        else:\n",
    "            wrong_predict_count += 1\n",
    "            zero_to_one += 1\n",
    "    else:\n",
    "        if y_regression[i] == 0:\n",
    "            wrong_predict_count += 1\n",
    "            one_to_zero += 1\n",
    "        else:\n",
    "            one_to_one += 1\n",
    "            \n",
    "print('test size =', y_test.shape[0])\n",
    "# print('non-zeron in y_hat =', np.count_nonzero(y_hat))\n",
    "print('right_predict_count =', y_test.shape[0] - wrong_predict_count)\n",
    "print('in right_predict_count: zero_to_zero =', zero_to_zero)\n",
    "print('in right_predict_count: one_to_one =', one_to_one)\n",
    "print('wrong_predict_count =', wrong_predict_count)\n",
    "print('in wrong_predict_count: zero_to_one =', zero_to_one)\n",
    "print(1.0*zero_to_one/(zero_to_one+zero_to_zero))\n",
    "print('in wrong_predict_count: one_to_zero =', one_to_zero)\n",
    "print(1.0*one_to_zero/(one_to_one+one_to_zero))\n",
    "\n",
    "rmse = np.sqrt(mean_squared_error(y_test, y_regression))\n",
    "print('loss =', rmse)\n",
    "        \n",
    "predict_total.head(n=1734)\n",
    "\n",
    "predict_total.to_csv(\"./three_combine_pre_yield_pre_wind_dir_2.csv\")"
   ]
  },
  {
   "cell_type": "code",
   "execution_count": 280,
   "metadata": {
    "collapsed": false
   },
   "outputs": [
    {
     "name": "stdout",
     "output_type": "stream",
     "text": [
      "2014-06-26 00:00:00 y_regression = 13.7834448143 ; y_test = 3.393255295\n",
      "2013-12-26 22:00:00 y_regression = 21.913322184 ; y_test = 1.114827202\n",
      "2015-11-01 04:00:00 y_regression = 10.7357859531 ; y_test = 21.39074693\n",
      "2014-02-02 02:00:00 y_regression = 6.5774804909 ; y_test = 17.9138796\n",
      "2014-08-03 02:00:00 y_regression = 17.5013935327 ; y_test = 2.773132664\n",
      "2013-12-26 04:00:00 y_regression = 24.747770346 ; y_test = 11.23188406\n",
      "2014-04-19 04:00:00 y_regression = 24.165273132 ; y_test = 0.10451505\n",
      "2015-10-31 18:00:00 y_regression = 2.6518952063 ; y_test = 16.10925307\n",
      "2014-02-17 22:00:00 y_regression = 11.3566053519 ; y_test = 22.43589744\n",
      "2014-02-17 08:00:00 y_regression = 13.2044314373 ; y_test = 23.48104794\n"
     ]
    },
    {
     "data": {
      "image/png": "[encoded data removed]",
      "text/plain": [
       "<matplotlib.figure.Figure at 0x11cb6d910>"
      ]
     },
     "metadata": {},
     "output_type": "display_data"
    }
   ],
   "source": [
    "fig, ax = plt.subplots(figsize=(16, 4))\n",
    "err = y_regression - y_test.values.ravel()\n",
    "\n",
    "for i in xrange(len(err)):\n",
    "    if abs(err[i]) > 10:\n",
    "        print(y_test.index[i], \n",
    "              'y_regression =', y_regression[i], \n",
    "              '; y_test =', y_test.values[i][0])\n",
    "\n",
    "ax.plot_date(y_test.index, err, c='r', ms=3)\n",
    "ax.set_title('residuals on test data (each)', fontsize=20)\n",
    "ax.set_ylabel('error')\n",
    "\n",
    "plt.show()\n",
    "\n",
    "# cc = 0\n",
    "# for i in xrange(err.shape[0]):\n",
    "#     if y_regression[i] - y_test.values[0][i] < 0:\n",
    "#         cc += 1"
   ]
  },
  {
   "cell_type": "code",
   "execution_count": null,
   "metadata": {
    "collapsed": true
   },
   "outputs": [],
   "source": []
  },
  {
   "cell_type": "code",
   "execution_count": null,
   "metadata": {
    "collapsed": true
   },
   "outputs": [],
   "source": []
  },
  {
   "cell_type": "code",
   "execution_count": null,
   "metadata": {
    "collapsed": true
   },
   "outputs": [],
   "source": [
    "for i in [2,4,6,8,18,20,22]:\n",
    "    offset = i\n",
    "    y_pretime = labels.copy()\n",
    "    y_pretime.index = y_pretime.index + pd.DateOffset(hours=offset)\n",
    "    y_pretime = y_pretime.rename(columns={'yield': 'pre_yield_' + str(offset) + '_hours'})\n",
    "    y_joint = pd.concat([y_time, y_pretime], axis=1, join='inner')\n",
    "    X_joint = pd.concat([X_joint, y_joint], axis=1, join='outer')\n",
    "    X_joint = X_joint.drop(labels='yield', axis=1)"
   ]
  },
  {
   "cell_type": "code",
   "execution_count": null,
   "metadata": {
    "collapsed": true
   },
   "outputs": [],
   "source": [
    "X_time = microclimate_train.copy()\n",
    "y_time = labels.copy()\n",
    "X_joint = microclimate_train.copy()\n",
    "\n",
    "for i in [2,4,6,8,18,20,22]:\n",
    "    offset = i\n",
    "    y_pretime = labels.copy()\n",
    "    y_pretime.index = y_pretime.index + pd.DateOffset(hours=offset)\n",
    "    y_pretime = y_pretime.rename(columns={'yield': 'pre_yield_' + str(offset) + '_hours'})\n",
    "    y_joint = pd.concat([y_time, y_pretime], axis=1, join='inner')\n",
    "    X_joint = pd.concat([X_joint, y_joint], axis=1, join='outer')\n",
    "    X_joint = X_joint.drop(labels='yield', axis=1)"
   ]
  }
 ],
 "metadata": {
  "kernelspec": {
   "display_name": "Python 2",
   "language": "python",
   "name": "python2"
  },
  "language_info": {
   "codemirror_mode": {
    "name": "ipython",
    "version": 2
   },
   "file_extension": ".py",
   "mimetype": "text/x-python",
   "name": "python",
   "nbconvert_exporter": "python",
   "pygments_lexer": "ipython2",
   "version": "2.7.11"
  }
 },
 "nbformat": 4,
 "nbformat_minor": 0
}
